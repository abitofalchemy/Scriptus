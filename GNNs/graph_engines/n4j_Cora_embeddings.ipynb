{
 "cells": [
  {
   "cell_type": "markdown",
   "id": "3d24ed4b",
   "metadata": {},
   "source": [
    "# Cora Embeddings\n",
    "\n",
    "\n",
    "\n",
    "[1]: https://datacrayon.com/posts/programming/python/yaml-for-configuration-files/"
   ]
  },
  {
   "cell_type": "code",
   "execution_count": null,
   "id": "1ac2501a",
   "metadata": {},
   "outputs": [],
   "source": []
  },
  {
   "cell_type": "code",
   "execution_count": 1,
   "id": "5cc14740",
   "metadata": {},
   "outputs": [],
   "source": [
    "%matplotlib inline\n",
    "\n",
    "import ast\n",
    "\n",
    "from neo4j import GraphDatabase\n",
    "\n",
    "import numpy as np\n",
    "import pandas as pd\n",
    "\n",
    "import optuna\n",
    "\n",
    "from sklearn.manifold import TSNE\n",
    "from sklearn import svm\n",
    "from sklearn.metrics import accuracy_score\n",
    "from sklearn.model_selection import train_test_split\n",
    "from sklearn.metrics import plot_confusion_matrix\n",
    "\n",
    "import matplotlib.pyplot as plt\n",
    "from mpl_toolkits.mplot3d import Axes3D\n",
    "import seaborn as sns"
   ]
  },
  {
   "cell_type": "code",
   "execution_count": 2,
   "id": "8e3c2890",
   "metadata": {},
   "outputs": [],
   "source": [
    "class Neo4jConnection:\n",
    "    \n",
    "    def __init__(self, uri, user, pwd):\n",
    "        self.__uri = uri\n",
    "        self.__user = user\n",
    "        self.__pwd = pwd\n",
    "        self.__driver = None\n",
    "        try:\n",
    "            self.__driver = GraphDatabase.driver(self.__uri, auth=(self.__user, self.__pwd))\n",
    "        except Exception as e:\n",
    "            print(\"Failed to create the driver:\", e)\n",
    "        \n",
    "    def close(self):\n",
    "        if self.__driver is not None:\n",
    "            self.__driver.close()\n",
    "        \n",
    "    def query(self, query, parameters=None, db='testdb'):\n",
    "        assert self.__driver is not None, \"Driver not initialized!\"\n",
    "        session = None\n",
    "        response = None\n",
    "        try: \n",
    "            session = self.__driver.session(database=db) if db is not None else self.__driver.session() \n",
    "            response = list(session.run(query, parameters))\n",
    "        except Exception as e:\n",
    "            print(\"Query failed:\", e)\n",
    "        finally: \n",
    "            if session is not None:\n",
    "                session.close()\n",
    "        return response"
   ]
  },
  {
   "cell_type": "code",
   "execution_count": 5,
   "id": "bb64b231",
   "metadata": {},
   "outputs": [
    {
     "data": {
      "text/plain": [
       "[<Record COUNT(n)=20865>]"
      ]
     },
     "execution_count": 5,
     "metadata": {},
     "output_type": "execute_result"
    }
   ],
   "source": [
    "### Load app configs\n",
    "import yaml\n",
    "#with open 'app_configs.yaml' 'rb') as fobj: \n",
    "#     config = yaml.load(f, Loader=yaml.FullLoader)\n",
    "with open(\"app_configs.yaml\", \"r\") as ymlfile:\n",
    "    cfg = yaml.load(ymlfile,Loader=yaml.FullLoader)\n",
    "\n",
    "n4j_uri = cfg['neo4j_uri']\n",
    "n4j_user= cfg['neo4j_username']    \n",
    "n4j_pwd = cfg['neo4j_password']\n",
    "\n",
    "conn = Neo4jConnection(uri=n4j_uri, user=n4j_user, pwd=n4j_pwd)\n",
    "\n",
    "conn.query(\"MATCH (n) RETURN COUNT(n)\")"
   ]
  },
  {
   "cell_type": "code",
   "execution_count": 6,
   "id": "086594c9",
   "metadata": {},
   "outputs": [
    {
     "data": {
      "text/plain": [
       "[<Record COUNT(n)=20865>]"
      ]
     },
     "execution_count": 6,
     "metadata": {},
     "output_type": "execute_result"
    }
   ],
   "source": [
    "conn.query(\"MATCH (n) RETURN COUNT(n)\")"
   ]
  },
  {
   "cell_type": "markdown",
   "id": "06293304",
   "metadata": {},
   "source": [
    "## Constraints "
   ]
  },
  {
   "cell_type": "code",
   "execution_count": 7,
   "id": "6fb03f19",
   "metadata": {},
   "outputs": [
    {
     "data": {
      "text/plain": [
       "[]"
      ]
     },
     "execution_count": 7,
     "metadata": {},
     "output_type": "execute_result"
    }
   ],
   "source": [
    "# By creating constraints, we are setting up indexing on the ID of the papers. \n",
    "# We are also specifying that each paper is unique (based on its ID), thus removing any duplicates that may exist. \n",
    "# As a result, graph traversal queries with Cypher can run much faster.\n",
    "\n",
    "query = \"\"\"CREATE CONSTRAINT papers IF NOT EXISTS ON (p:Paper) ASSERT p.id IS UNIQUE\"\"\"\n",
    "conn.query(query)"
   ]
  },
  {
   "cell_type": "markdown",
   "id": "2affe769",
   "metadata": {},
   "source": [
    "## Node and edge lists\n",
    "\n",
    "The next two cells populate the nodes and edges (relationships) of the database. The files themselves are discussed in the blog post, and are provided in one of my GitHub repos.\n",
    "\n"
   ]
  },
  {
   "cell_type": "code",
   "execution_count": 8,
   "id": "c20ee9a4",
   "metadata": {},
   "outputs": [
    {
     "data": {
      "text/plain": [
       "[<Record COUNT(*)=2708>]"
      ]
     },
     "execution_count": 8,
     "metadata": {},
     "output_type": "execute_result"
    }
   ],
   "source": [
    "query = \"\"\"LOAD CSV WITH HEADERS FROM 'https://raw.githubusercontent.com/cj2001/pydata2021/main/notebooks/data/cora_nodes.csv' AS line\n",
    "           WITH line\n",
    "           MERGE (p:Paper {id: line.id})\n",
    "               ON CREATE SET p.subject = line.subject, p.features = line.features\n",
    "           RETURN COUNT(*)\n",
    "\"\"\"\n",
    "\n",
    "conn.query(query)"
   ]
  },
  {
   "cell_type": "code",
   "execution_count": 9,
   "id": "f96ee27e",
   "metadata": {},
   "outputs": [
    {
     "data": {
      "text/plain": [
       "[<Record COUNT(*)=5429>]"
      ]
     },
     "execution_count": 9,
     "metadata": {},
     "output_type": "execute_result"
    }
   ],
   "source": [
    "### Load edges \n",
    "query = \"\"\"LOAD CSV WITH HEADERS FROM 'https://raw.githubusercontent.com/cj2001/pydata2021/main/notebooks/data/cora_edges.csv' AS line\n",
    "           WITH line\n",
    "           MATCH (source:Paper {id: line.source})\n",
    "           MATCH (target:Paper {id: line.target})\n",
    "           MERGE (source)-[:CITES]->(target)\n",
    "           RETURN COUNT(*)\n",
    "\"\"\"\n",
    "\n",
    "conn.query(query)"
   ]
  },
  {
   "cell_type": "markdown",
   "id": "a3d176a1",
   "metadata": {},
   "source": [
    "## ML Model based on Word Embeddings\n",
    "\n",
    "We will now create our NLP-based word embedding model. The first cell is just some \n",
    "helper functions that will put our graph data into the proper X, y format that \n",
    "scikit-learn expects. The following cell runs the SVC model and returns the mean \n",
    "accuracy and confusion matrix.\n"
   ]
  },
  {
   "cell_type": "code",
   "execution_count": 10,
   "id": "7746c768",
   "metadata": {},
   "outputs": [],
   "source": [
    "def create_word_df():\n",
    "\n",
    "    query = \"\"\"MATCH (p:Paper) RETURN p.id AS id, p.subject AS subject, p.features AS features\"\"\"\n",
    "\n",
    "    df = pd.DataFrame([dict(_) for _ in conn.query(query)])\n",
    "    df['features'] = df['features'].apply(ast.literal_eval)\n",
    "    df['embeddings'] = df['features'].apply(lambda x: np.array(x, dtype=float))\n",
    "\n",
    "    return df\n",
    "\n",
    "\n",
    "def create_word_X_y(df):\n",
    "\n",
    "    X = np.array(df['embeddings'].to_list())\n",
    "    df['target'] = pd.factorize(df['subject'])[0].astype(\"float32\")\n",
    "    y = df['target'].to_numpy()\n",
    "\n",
    "    return X, y"
   ]
  },
  {
   "cell_type": "code",
   "execution_count": 11,
   "id": "d325c6df",
   "metadata": {},
   "outputs": [],
   "source": [
    "def word_modeler(k_folds=5, model='linear', show_matrix=True):\n",
    "\n",
    "    acc_scores = []\n",
    "\n",
    "    df = create_word_df()\n",
    "    X, y = create_word_X_y(df)\n",
    "\n",
    "    for i in range(0, k_folds):\n",
    "        \n",
    "        X_train, X_test, y_train, y_test = train_test_split(X, y, test_size=0.25)\n",
    "        clf = svm.SVC(kernel='linear', class_weight='balanced')\n",
    "        clf.fit(X_train, y_train)\n",
    "        pred = clf.predict(X_test)\n",
    "\n",
    "        acc = accuracy_score(pred, y_test)\n",
    "        acc_scores.append(acc)        \n",
    "        \n",
    "    print('Accuracy scores: ', acc_scores)\n",
    "    print('Mean accuracy: ', np.mean(acc_scores))\n",
    "    \n",
    "    if show_matrix:\n",
    "        matrix = plot_confusion_matrix(clf, X_test, y_test, cmap=plt.cm.Blues, normalize='true')\n",
    "        plt.show(matrix)\n",
    "        plt.show()\n",
    "        \n",
    "    return\n",
    "\n"
   ]
  },
  {
   "cell_type": "code",
   "execution_count": 12,
   "id": "a5e823b5",
   "metadata": {},
   "outputs": [
    {
     "name": "stdout",
     "output_type": "stream",
     "text": [
      "Accuracy scores:  [0.7104874446085672, 0.7045790251107829, 0.7223042836041359, 0.7178729689807977, 0.7370753323485968]\n",
      "Mean accuracy:  0.7184638109305761\n"
     ]
    },
    {
     "data": {
      "image/png": "[encoded data removed]",
      "text/plain": [
       "<Figure size 432x288 with 2 Axes>"
      ]
     },
     "metadata": {
      "needs_background": "light"
     },
     "output_type": "display_data"
    }
   ],
   "source": [
    "word_modeler()"
   ]
  },
  {
   "cell_type": "markdown",
   "id": "e9fb7ee7",
   "metadata": {},
   "source": [
    "# ML model based on graph embeddings\n",
    "\n",
    "The first step in using anything within the GDS library is to create an in-memory graph.  This is described in a bit more detail in the blog post.  However, if you are interested in learning more, you can watch [this video](https://dev.neo4j.com/bites_part12). "
   ]
  },
  {
   "cell_type": "code",
   "execution_count": 13,
   "id": "980a4b50",
   "metadata": {},
   "outputs": [
    {
     "name": "stdout",
     "output_type": "stream",
     "text": [
      "Query failed: {code: Neo.ClientError.Procedure.ProcedureCallFailed} {message: Failed to invoke procedure `gds.graph.create`: Caused by: java.lang.IllegalArgumentException: A graph with name 'cora_graph' already exists.}\n"
     ]
    }
   ],
   "source": [
    "query = \"\"\"CALL gds.graph.create(\n",
    "           'cora_graph',\n",
    "           'Paper',\n",
    "           {CITES: \n",
    "               {\n",
    "                   orientation: 'UNDIRECTED'\n",
    "               }\n",
    "           }\n",
    "       )\n",
    "\"\"\"\n",
    "\n",
    "conn.query(query)"
   ]
  },
  {
   "cell_type": "code",
   "execution_count": 14,
   "id": "8bd53e8b",
   "metadata": {},
   "outputs": [],
   "source": [
    "### Creating the model \n",
    "### build graph embeddings with default dim size 10 & writing it to graph's nodes. \n",
    "def create_embs(dim=10):\n",
    "\n",
    "    query = \"\"\"CALL gds.fastRP.write(\n",
    "               'cora_graph',\n",
    "               {\n",
    "                   embeddingDimension: %d,\n",
    "                   iterationWeights: [0.0, 0.0, 1.0, 1.0],\n",
    "                   writeProperty: 'fastrp_embedding'\n",
    "               }\n",
    "           )\n",
    "    \"\"\" % (dim)\n",
    "\n",
    "    conn.query(query)\n",
    "    return\n",
    "\n",
    "def create_X_y():\n",
    "    \"\"\"Create a dataframe: paper id, paper's subject, and fastRP embeddings \"\"\"\n",
    "\n",
    "    query = \"\"\"MATCH (p:Paper) RETURN p.id AS id, p.subject AS subject, p.fastrp_embedding AS fastrp_embedding\"\"\"\n",
    "    emb_df = pd.DataFrame([dict(_) for _ in conn.query(query)])\n",
    "    display(emb_df.head())\n",
    "    ### Setting the 'target'\n",
    "    emb_df['target'] = pd.factorize(emb_df['subject'])[0].astype(\"float32\")\n",
    "    y = emb_df['target'].to_numpy()\n",
    "    emb_df['X'] = emb_df['fastrp_embedding'].apply(lambda x: np.array(x))\n",
    "    X = np.array(emb_df['X'].to_list())\n",
    "\n",
    "    return X, y\n",
    "\n"
   ]
  },
  {
   "cell_type": "code",
   "execution_count": 15,
   "id": "98241b11",
   "metadata": {},
   "outputs": [],
   "source": [
    "def modeler(dim, k_folds=5, model='linear', show_matrix=True):\n",
    "\n",
    "    acc_scores = []\n",
    "\n",
    "    create_embs(dim=dim)\n",
    "    X, y = create_X_y()\n",
    "\n",
    "    for i in range(0, k_folds):\n",
    "        \n",
    "        X_train, X_test, y_train, y_test = train_test_split(X, y, test_size=0.25)\n",
    "        clf = svm.SVC(kernel='linear', class_weight='balanced')\n",
    "        clf.fit(X_train, y_train)\n",
    "        pred = clf.predict(X_test)\n",
    "\n",
    "        acc = accuracy_score(pred, y_test)\n",
    "        acc_scores.append(acc)        \n",
    "        \n",
    "    print('Accuracy scores: ', acc_scores)\n",
    "    print('Mean accuracy: ', np.mean(acc_scores))\n",
    "    \n",
    "    if show_matrix:\n",
    "        matrix = plot_confusion_matrix(clf, X_test, y_test, cmap=plt.cm.Blues, normalize='true')\n",
    "        plt.show(matrix)\n",
    "        plt.show()\n",
    "        \n",
    "    return\n",
    "\n"
   ]
  },
  {
   "cell_type": "code",
   "execution_count": 16,
   "id": "889cd157",
   "metadata": {
    "scrolled": false
   },
   "outputs": [
    {
     "data": {
      "text/html": [
       "<div>\n",
       "<style scoped>\n",
       "    .dataframe tbody tr th:only-of-type {\n",
       "        vertical-align: middle;\n",
       "    }\n",
       "\n",
       "    .dataframe tbody tr th {\n",
       "        vertical-align: top;\n",
       "    }\n",
       "\n",
       "    .dataframe thead th {\n",
       "        text-align: right;\n",
       "    }\n",
       "</style>\n",
       "<table border=\"1\" class=\"dataframe\">\n",
       "  <thead>\n",
       "    <tr style=\"text-align: right;\">\n",
       "      <th></th>\n",
       "      <th>id</th>\n",
       "      <th>subject</th>\n",
       "      <th>fastrp_embedding</th>\n",
       "    </tr>\n",
       "  </thead>\n",
       "  <tbody>\n",
       "    <tr>\n",
       "      <th>0</th>\n",
       "      <td>31336</td>\n",
       "      <td>Neural_Networks</td>\n",
       "      <td>[0.2735336124897003, -0.14014932513237, 0.6108...</td>\n",
       "    </tr>\n",
       "    <tr>\n",
       "      <th>1</th>\n",
       "      <td>1061127</td>\n",
       "      <td>Rule_Learning</td>\n",
       "      <td>[0.5458564758300781, 0.32021352648735046, -0.2...</td>\n",
       "    </tr>\n",
       "    <tr>\n",
       "      <th>2</th>\n",
       "      <td>1106406</td>\n",
       "      <td>Reinforcement_Learning</td>\n",
       "      <td>[-0.3909068703651428, -0.735643744468689, 0.84...</td>\n",
       "    </tr>\n",
       "    <tr>\n",
       "      <th>3</th>\n",
       "      <td>13195</td>\n",
       "      <td>Reinforcement_Learning</td>\n",
       "      <td>[-0.8824717998504639, -0.9107886552810669, 0.4...</td>\n",
       "    </tr>\n",
       "    <tr>\n",
       "      <th>4</th>\n",
       "      <td>37879</td>\n",
       "      <td>Probabilistic_Methods</td>\n",
       "      <td>[-0.5533919334411621, -0.4746816158294678, 0.0...</td>\n",
       "    </tr>\n",
       "  </tbody>\n",
       "</table>\n",
       "</div>"
      ],
      "text/plain": [
       "        id                 subject  \\\n",
       "0    31336         Neural_Networks   \n",
       "1  1061127           Rule_Learning   \n",
       "2  1106406  Reinforcement_Learning   \n",
       "3    13195  Reinforcement_Learning   \n",
       "4    37879   Probabilistic_Methods   \n",
       "\n",
       "                                    fastrp_embedding  \n",
       "0  [0.2735336124897003, -0.14014932513237, 0.6108...  \n",
       "1  [0.5458564758300781, 0.32021352648735046, -0.2...  \n",
       "2  [-0.3909068703651428, -0.735643744468689, 0.84...  \n",
       "3  [-0.8824717998504639, -0.9107886552810669, 0.4...  \n",
       "4  [-0.5533919334411621, -0.4746816158294678, 0.0...  "
      ]
     },
     "metadata": {},
     "output_type": "display_data"
    },
    {
     "name": "stdout",
     "output_type": "stream",
     "text": [
      "Accuracy scores:  [0.5155096011816839, 0.5361890694239291, 0.5302806499261448, 0.5361890694239291, 0.5361890694239291]\n",
      "Mean accuracy:  0.5308714918759232\n"
     ]
    },
    {
     "data": {
      "image/png": "[encoded data removed]",
      "text/plain": [
       "<Figure size 432x288 with 2 Axes>"
      ]
     },
     "metadata": {
      "needs_background": "light"
     },
     "output_type": "display_data"
    },
    {
     "name": "stdout",
     "output_type": "stream",
     "text": [
      "\n"
     ]
    }
   ],
   "source": [
    "emb_dim_lst = [16, 32, 128, 256]\n",
    "for edim in emb_dim_lst:\n",
    "    modeler(dim=edim)\n",
    "    # \n",
    "    print()\n",
    "    break"
   ]
  },
  {
   "cell_type": "markdown",
   "id": "44a8c00d",
   "metadata": {},
   "source": [
    "## Use of TSNE\n",
    "\n",
    "\n",
    "### About TSNE \n",
    "\n",
    "T-distributed Stochastic Neighbor Embedding. The number of components refers to the dimension of the embedded space.\n",
    "\n",
    "* popular tool for visualizing high-parameter single-cell data.\n",
    "* Dimensionality Reduction and explored two of its most popular techniques, Principal Component Analysis and t-Distributed Stochastic Neighbor Embedding [2]. \n",
    "\n",
    "\n",
    "[2]: https://scikit-learn.org/stable/modules/generated/sklearn.manifold.TSNE.html\n",
    "[3]: https://www.datacamp.com/community/tutorials/introduction-t-sne\n"
   ]
  },
  {
   "cell_type": "code",
   "execution_count": 17,
   "id": "4c0fc0c5",
   "metadata": {},
   "outputs": [],
   "source": [
    "def create_tsne_plot(dim, emb_name='fastrp_embedding'):\n",
    "\n",
    "    create_embs(dim=dim)\n",
    "    X, y = create_X_y()\n",
    "\n",
    "    X_emb = TSNE(n_components=2).fit_transform(X)\n",
    "\n",
    "    tsne_df = pd.DataFrame(data = {\n",
    "        'x': [value[0] for value in X_emb],\n",
    "        'y': [value[1] for value in X_emb], \n",
    "        'label': y\n",
    "    })\n",
    "\n",
    "    plt.figure(figsize=(16,10))\n",
    "    s = 30\n",
    "    ax = sns.scatterplot(\n",
    "        x='x', y='y',\n",
    "        palette=sns.color_palette('hls', 7),\n",
    "        data=tsne_df,\n",
    "        hue='label',\n",
    "        legend=True, \n",
    "        s=100,\n",
    "        alpha=0.75\n",
    "    )\n",
    "    ax.legend(prop={'size': 10})\n",
    "    plt.xlabel('X Component', fontsize=16)\n",
    "    plt.ylabel('Y Component', fontsize=16)\n",
    "    plt.show\n",
    "    \n",
    "    return tsne_df"
   ]
  },
  {
   "cell_type": "code",
   "execution_count": null,
   "id": "f579509b",
   "metadata": {},
   "outputs": [
    {
     "data": {
      "text/html": [
       "<div>\n",
       "<style scoped>\n",
       "    .dataframe tbody tr th:only-of-type {\n",
       "        vertical-align: middle;\n",
       "    }\n",
       "\n",
       "    .dataframe tbody tr th {\n",
       "        vertical-align: top;\n",
       "    }\n",
       "\n",
       "    .dataframe thead th {\n",
       "        text-align: right;\n",
       "    }\n",
       "</style>\n",
       "<table border=\"1\" class=\"dataframe\">\n",
       "  <thead>\n",
       "    <tr style=\"text-align: right;\">\n",
       "      <th></th>\n",
       "      <th>id</th>\n",
       "      <th>subject</th>\n",
       "      <th>fastrp_embedding</th>\n",
       "    </tr>\n",
       "  </thead>\n",
       "  <tbody>\n",
       "    <tr>\n",
       "      <th>0</th>\n",
       "      <td>31336</td>\n",
       "      <td>Neural_Networks</td>\n",
       "      <td>[-0.016671957448124886, 0.5850130319595337, -0...</td>\n",
       "    </tr>\n",
       "    <tr>\n",
       "      <th>1</th>\n",
       "      <td>1061127</td>\n",
       "      <td>Rule_Learning</td>\n",
       "      <td>[-0.051147133111953735, -0.15641461312770844, ...</td>\n",
       "    </tr>\n",
       "    <tr>\n",
       "      <th>2</th>\n",
       "      <td>1106406</td>\n",
       "      <td>Reinforcement_Learning</td>\n",
       "      <td>[-0.021324288100004196, -0.4195905327796936, -...</td>\n",
       "    </tr>\n",
       "    <tr>\n",
       "      <th>3</th>\n",
       "      <td>13195</td>\n",
       "      <td>Reinforcement_Learning</td>\n",
       "      <td>[-0.1478549987077713, -0.6204941272735596, 0.0...</td>\n",
       "    </tr>\n",
       "    <tr>\n",
       "      <th>4</th>\n",
       "      <td>37879</td>\n",
       "      <td>Probabilistic_Methods</td>\n",
       "      <td>[0.40031135082244873, 0.1639956831932068, -0.2...</td>\n",
       "    </tr>\n",
       "  </tbody>\n",
       "</table>\n",
       "</div>"
      ],
      "text/plain": [
       "        id                 subject  \\\n",
       "0    31336         Neural_Networks   \n",
       "1  1061127           Rule_Learning   \n",
       "2  1106406  Reinforcement_Learning   \n",
       "3    13195  Reinforcement_Learning   \n",
       "4    37879   Probabilistic_Methods   \n",
       "\n",
       "                                    fastrp_embedding  \n",
       "0  [-0.016671957448124886, 0.5850130319595337, -0...  \n",
       "1  [-0.051147133111953735, -0.15641461312770844, ...  \n",
       "2  [-0.021324288100004196, -0.4195905327796936, -...  \n",
       "3  [-0.1478549987077713, -0.6204941272735596, 0.0...  \n",
       "4  [0.40031135082244873, 0.1639956831932068, -0.2...  "
      ]
     },
     "metadata": {},
     "output_type": "display_data"
    }
   ],
   "source": [
    "tsne_df = create_tsne_plot(dim=16)"
   ]
  },
  {
   "cell_type": "code",
   "execution_count": null,
   "id": "518ca5b1",
   "metadata": {},
   "outputs": [],
   "source": []
  }
 ],
 "metadata": {
  "kernelspec": {
   "display_name": "dsenv",
   "language": "python",
   "name": "dsenv"
  },
  "language_info": {
   "codemirror_mode": {
    "name": "ipython",
    "version": 3
   },
   "file_extension": ".py",
   "mimetype": "text/x-python",
   "name": "python",
   "nbconvert_exporter": "python",
   "pygments_lexer": "ipython3",
   "version": "3.7.11"
  }
 },
 "nbformat": 4,
 "nbformat_minor": 5
}
