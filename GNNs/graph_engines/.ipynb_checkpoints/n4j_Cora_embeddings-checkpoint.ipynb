{
 "cells": [
  {
   "cell_type": "markdown",
   "id": "0cacde66",
   "metadata": {},
   "source": [
    "# Cora Embeddings\n",
    "\n",
    "\n",
    "\n",
    "[1]: https://datacrayon.com/posts/programming/python/yaml-for-configuration-files/"
   ]
  },
  {
   "cell_type": "code",
   "execution_count": 1,
   "id": "5cc14740",
   "metadata": {},
   "outputs": [],
   "source": [
    "%matplotlib inline\n",
    "\n",
    "import ast\n",
    "\n",
    "from neo4j import GraphDatabase\n",
    "\n",
    "import numpy as np\n",
    "import pandas as pd\n",
    "\n",
    "import optuna\n",
    "\n",
    "from sklearn.manifold import TSNE\n",
    "from sklearn import svm\n",
    "from sklearn.metrics import accuracy_score\n",
    "from sklearn.model_selection import train_test_split\n",
    "from sklearn.metrics import plot_confusion_matrix\n",
    "\n",
    "import matplotlib.pyplot as plt\n",
    "from mpl_toolkits.mplot3d import Axes3D\n",
    "import seaborn as sns"
   ]
  },
  {
   "cell_type": "code",
   "execution_count": 2,
   "id": "8e3c2890",
   "metadata": {},
   "outputs": [],
   "source": [
    "class Neo4jConnection:\n",
    "    \n",
    "    def __init__(self, uri, user, pwd):\n",
    "        self.__uri = uri\n",
    "        self.__user = user\n",
    "        self.__pwd = pwd\n",
    "        self.__driver = None\n",
    "        try:\n",
    "            self.__driver = GraphDatabase.driver(self.__uri, auth=(self.__user, self.__pwd))\n",
    "        except Exception as e:\n",
    "            print(\"Failed to create the driver:\", e)\n",
    "        \n",
    "    def close(self):\n",
    "        if self.__driver is not None:\n",
    "            self.__driver.close()\n",
    "        \n",
    "    def query(self, query, parameters=None, db='testdb'):\n",
    "        assert self.__driver is not None, \"Driver not initialized!\"\n",
    "        session = None\n",
    "        response = None\n",
    "        try: \n",
    "            session = self.__driver.session(database=db) if db is not None else self.__driver.session() \n",
    "            response = list(session.run(query, parameters))\n",
    "        except Exception as e:\n",
    "            print(\"Query failed:\", e)\n",
    "        finally: \n",
    "            if session is not None:\n",
    "                session.close()\n",
    "        return response"
   ]
  },
  {
   "cell_type": "code",
   "execution_count": 3,
   "id": "bb64b231",
   "metadata": {},
   "outputs": [
    {
     "data": {
      "text/plain": [
       "[<Record COUNT(n)=20865>]"
      ]
     },
     "execution_count": 3,
     "metadata": {},
     "output_type": "execute_result"
    }
   ],
   "source": [
    "### Load app configs\n",
    "import yaml\n",
    "#with open 'app_configs.yaml' 'rb') as fobj: \n",
    "#     config = yaml.load(f, Loader=yaml.FullLoader)\n",
    "with open(\"app_configs.yaml\", \"r\") as ymlfile:\n",
    "    cfg = yaml.load(ymlfile,Loader=yaml.FullLoader)\n",
    "\n",
    "n4j_uri = cfg['neo4j_uri']\n",
    "n4j_user= cfg['neo4j_username']    \n",
    "n4j_pwd = cfg['neo4j_password']\n",
    "\n",
    "conn = Neo4jConnection(uri=n4j_uri, user=n4j_user, pwd=n4j_pwd)\n",
    "\n",
    "conn.query(\"MATCH (n) RETURN COUNT(n)\")"
   ]
  },
  {
   "cell_type": "code",
   "execution_count": 4,
   "id": "086594c9",
   "metadata": {},
   "outputs": [
    {
     "data": {
      "text/plain": [
       "[<Record COUNT(n)=20865>]"
      ]
     },
     "execution_count": 4,
     "metadata": {},
     "output_type": "execute_result"
    }
   ],
   "source": [
    "conn.query(\"MATCH (n) RETURN COUNT(n)\")"
   ]
  },
  {
   "cell_type": "markdown",
   "id": "06293304",
   "metadata": {},
   "source": [
    "## Constraints "
   ]
  },
  {
   "cell_type": "code",
   "execution_count": 5,
   "id": "6fb03f19",
   "metadata": {},
   "outputs": [
    {
     "data": {
      "text/plain": [
       "[]"
      ]
     },
     "execution_count": 5,
     "metadata": {},
     "output_type": "execute_result"
    }
   ],
   "source": [
    "# By creating constraints, we are setting up indexing on the ID of the papers. \n",
    "# We are also specifying that each paper is unique (based on its ID), thus removing any duplicates that may exist. \n",
    "# As a result, graph traversal queries with Cypher can run much faster.\n",
    "\n",
    "query = \"\"\"CREATE CONSTRAINT papers IF NOT EXISTS ON (p:Paper) ASSERT p.id IS UNIQUE\"\"\"\n",
    "conn.query(query)"
   ]
  },
  {
   "cell_type": "markdown",
   "id": "2affe769",
   "metadata": {},
   "source": [
    "## Node and edge lists\n",
    "\n",
    "The next two cells populate the nodes and edges (relationships) of the database. The files themselves are discussed in the blog post, and are provided in one of my GitHub repos.\n",
    "\n"
   ]
  },
  {
   "cell_type": "code",
   "execution_count": 6,
   "id": "c20ee9a4",
   "metadata": {},
   "outputs": [
    {
     "data": {
      "text/plain": [
       "[<Record COUNT(*)=2708>]"
      ]
     },
     "execution_count": 6,
     "metadata": {},
     "output_type": "execute_result"
    }
   ],
   "source": [
    "query = \"\"\"LOAD CSV WITH HEADERS FROM 'https://raw.githubusercontent.com/cj2001/pydata2021/main/notebooks/data/cora_nodes.csv' AS line\n",
    "           WITH line\n",
    "           MERGE (p:Paper {id: line.id})\n",
    "               ON CREATE SET p.subject = line.subject, p.features = line.features\n",
    "           RETURN COUNT(*)\n",
    "\"\"\"\n",
    "\n",
    "conn.query(query)"
   ]
  },
  {
   "cell_type": "code",
   "execution_count": 7,
   "id": "f96ee27e",
   "metadata": {},
   "outputs": [
    {
     "data": {
      "text/plain": [
       "[<Record COUNT(*)=5429>]"
      ]
     },
     "execution_count": 7,
     "metadata": {},
     "output_type": "execute_result"
    }
   ],
   "source": [
    "### Load edges \n",
    "query = \"\"\"LOAD CSV WITH HEADERS FROM 'https://raw.githubusercontent.com/cj2001/pydata2021/main/notebooks/data/cora_edges.csv' AS line\n",
    "           WITH line\n",
    "           MATCH (source:Paper {id: line.source})\n",
    "           MATCH (target:Paper {id: line.target})\n",
    "           MERGE (source)-[:CITES]->(target)\n",
    "           RETURN COUNT(*)\n",
    "\"\"\"\n",
    "\n",
    "conn.query(query)"
   ]
  },
  {
   "cell_type": "markdown",
   "id": "a3d176a1",
   "metadata": {},
   "source": [
    "## ML Model based on Word Embeddings\n",
    "\n",
    "We will now create our NLP-based word embedding model. The first cell is just some \n",
    "helper functions that will put our graph data into the proper X, y format that \n",
    "scikit-learn expects. The following cell runs the SVC model and returns the mean \n",
    "accuracy and confusion matrix.\n"
   ]
  },
  {
   "cell_type": "code",
   "execution_count": 8,
   "id": "7746c768",
   "metadata": {},
   "outputs": [],
   "source": [
    "def create_word_df():\n",
    "\n",
    "    query = \"\"\"MATCH (p:Paper) RETURN p.id AS id, p.subject AS subject, p.features AS features\"\"\"\n",
    "\n",
    "    df = pd.DataFrame([dict(_) for _ in conn.query(query)])\n",
    "    df['features'] = df['features'].apply(ast.literal_eval)\n",
    "    df['embeddings'] = df['features'].apply(lambda x: np.array(x, dtype=float))\n",
    "\n",
    "    return df\n",
    "\n",
    "\n",
    "def create_word_X_y(df):\n",
    "\n",
    "    X = np.array(df['embeddings'].to_list())\n",
    "    df['target'] = pd.factorize(df['subject'])[0].astype(\"float32\")\n",
    "    y = df['target'].to_numpy()\n",
    "\n",
    "    return X, y"
   ]
  },
  {
   "cell_type": "code",
   "execution_count": 9,
   "id": "d325c6df",
   "metadata": {},
   "outputs": [],
   "source": [
    "def word_modeler(k_folds=5, model='linear', show_matrix=True):\n",
    "\n",
    "    acc_scores = []\n",
    "\n",
    "    df = create_word_df()\n",
    "    X, y = create_word_X_y(df)\n",
    "\n",
    "    for i in range(0, k_folds):\n",
    "        \n",
    "        X_train, X_test, y_train, y_test = train_test_split(X, y, test_size=0.25)\n",
    "        clf = svm.SVC(kernel='linear', class_weight='balanced')\n",
    "        clf.fit(X_train, y_train)\n",
    "        pred = clf.predict(X_test)\n",
    "\n",
    "        acc = accuracy_score(pred, y_test)\n",
    "        acc_scores.append(acc)        \n",
    "        \n",
    "    print('Accuracy scores: ', acc_scores)\n",
    "    print('Mean accuracy: ', np.mean(acc_scores))\n",
    "    \n",
    "    if show_matrix:\n",
    "        matrix = plot_confusion_matrix(clf, X_test, y_test, cmap=plt.cm.Blues, normalize='true')\n",
    "        plt.show(matrix)\n",
    "        plt.show()\n",
    "        \n",
    "    return\n",
    "\n"
   ]
  },
  {
   "cell_type": "code",
   "execution_count": 10,
   "id": "a5e823b5",
   "metadata": {},
   "outputs": [
    {
     "name": "stdout",
     "output_type": "stream",
     "text": [
      "Accuracy scores:  [0.7104874446085672, 0.7459379615952733, 0.6971935007385525, 0.7149187592319055, 0.7149187592319055]\n",
      "Mean accuracy:  0.7166912850812409\n"
     ]
    },
    {
     "data": {
      "image/png": "[encoded data removed]",
      "text/plain": [
       "<Figure size 432x288 with 2 Axes>"
      ]
     },
     "metadata": {
      "needs_background": "light"
     },
     "output_type": "display_data"
    }
   ],
   "source": [
    "word_modeler()"
   ]
  },
  {
   "cell_type": "markdown",
   "id": "e9fb7ee7",
   "metadata": {},
   "source": [
    "# ML model based on graph embeddings\n",
    "\n",
    "The first step in using anything within the GDS library is to create an in-memory graph.  This is described in a bit more detail in the blog post.  However, if you are interested in learning more, you can watch [this video](https://dev.neo4j.com/bites_part12). "
   ]
  },
  {
   "cell_type": "code",
   "execution_count": 11,
   "id": "980a4b50",
   "metadata": {},
   "outputs": [
    {
     "data": {
      "text/plain": [
       "[<Record nodeProjection={'Paper': {'properties': {}, 'label': 'Paper'}} relationshipProjection={'CITES': {'orientation': 'UNDIRECTED', 'aggregation': 'DEFAULT', 'type': 'CITES', 'properties': {}}} graphName='cora_graph' nodeCount=2708 relationshipCount=10858 createMillis=24>]"
      ]
     },
     "execution_count": 11,
     "metadata": {},
     "output_type": "execute_result"
    }
   ],
   "source": [
    "query = \"\"\"CALL gds.graph.create(\n",
    "           'cora_graph',\n",
    "           'Paper',\n",
    "           {CITES: \n",
    "               {\n",
    "                   orientation: 'UNDIRECTED'\n",
    "               }\n",
    "           }\n",
    "       )\n",
    "\"\"\"\n",
    "\n",
    "conn.query(query)"
   ]
  },
  {
   "cell_type": "code",
   "execution_count": 12,
   "id": "8bd53e8b",
   "metadata": {},
   "outputs": [],
   "source": [
    "### Creating the model \n",
    "### build graph embeddings with default dim size 10 & writing it to graph's nodes. \n",
    "def create_embs(dim=10):\n",
    "\n",
    "    query = \"\"\"CALL gds.fastRP.write(\n",
    "               'cora_graph',\n",
    "               {\n",
    "                   embeddingDimension: %d,\n",
    "                   iterationWeights: [0.0, 0.0, 1.0, 1.0],\n",
    "                   writeProperty: 'fastrp_embedding'\n",
    "               }\n",
    "           )\n",
    "    \"\"\" % (dim)\n",
    "\n",
    "    conn.query(query)\n",
    "    return\n",
    "\n",
    "def create_X_y():\n",
    "    \"\"\"Create a dataframe: paper id, paper's subject, and fastRP embeddings \"\"\"\n",
    "\n",
    "    query = \"\"\"MATCH (p:Paper) RETURN p.id AS id, p.subject AS subject, p.fastrp_embedding AS fastrp_embedding\"\"\"\n",
    "    emb_df = pd.DataFrame([dict(_) for _ in conn.query(query)])\n",
    "    display(emb_df.head())\n",
    "    ### Setting the 'target'\n",
    "    emb_df['target'] = pd.factorize(emb_df['subject'])[0].astype(\"float32\")\n",
    "    y = emb_df['target'].to_numpy()\n",
    "    emb_df['X'] = emb_df['fastrp_embedding'].apply(lambda x: np.array(x))\n",
    "    X = np.array(emb_df['X'].to_list())\n",
    "\n",
    "    return X, y\n",
    "\n"
   ]
  },
  {
   "cell_type": "code",
   "execution_count": null,
   "id": "350dff49",
   "metadata": {},
   "outputs": [],
   "source": []
  }
 ],
 "metadata": {
  "kernelspec": {
   "display_name": "dsenv",
   "language": "python",
   "name": "dsenv"
  },
  "language_info": {
   "codemirror_mode": {
    "name": "ipython",
    "version": 3
   },
   "file_extension": ".py",
   "mimetype": "text/x-python",
   "name": "python",
   "nbconvert_exporter": "python",
   "pygments_lexer": "ipython3",
   "version": "3.7.11"
  }
 },
 "nbformat": 4,
 "nbformat_minor": 5
}
