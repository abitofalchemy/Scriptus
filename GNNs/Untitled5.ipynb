{
 "cells": [
  {
   "cell_type": "markdown",
   "id": "37b03b5b-f023-4267-af90-c58e5e054700",
   "metadata": {},
   "source": [
    "# Recreate a dataset \n",
    "\n",
    "* inmemory\n",
    "* batch (sample)\n",
    "\n",
    "\n"
   ]
  },
  {
   "cell_type": "code",
   "execution_count": 1,
   "id": "c762f61b-e014-4aff-9903-8edacac69bae",
   "metadata": {},
   "outputs": [],
   "source": [
    "import torch\n",
    "import numpy as np\n",
    "import networkx as nx\n",
    "import community as community_louvain\n",
    "from torch_geometric.data import InMemoryDataset, Data\n",
    "\n"
   ]
  },
  {
   "cell_type": "code",
   "execution_count": 7,
   "id": "2a853f46-1647-473c-ace0-fd08059383a4",
   "metadata": {},
   "outputs": [],
   "source": [
    "import pandas as pd\n"
   ]
  },
  {
   "cell_type": "code",
   "execution_count": 13,
   "id": "9ce8f1e7-3340-4295-a29a-2a82f32a0b59",
   "metadata": {},
   "outputs": [
    {
     "name": "stdout",
     "output_type": "stream",
     "text": [
      "MakingMyOwnDatasets.ipynb         Untitled5.ipynb\n",
      "Untitled.ipynb                    dse_gnn_helloworld_with_dgl.ipynb\n",
      "Untitled1.ipynb                   interactions.csv\n",
      "Untitled2.ipynb                   members.csv\n",
      "Untitled3.ipynb                   pygNodeClfnGnnBaseline.ipynb\n",
      "Untitled4.ipynb                   readme.md\n",
      "Src,Dst,Weight\n",
      "0,1,0.04359125434134381\n",
      "0,2,0.2821188406213754\n",
      "0,3,0.37029320604379456\n",
      "0,4,0.7305698525159138\n",
      "0,5,0.8211874242825844\n",
      "0,6,0.05924861185261898\n",
      "0,7,0.12896455296297726\n",
      "0,8,0.5208267297835438\n",
      "0,10,0.9413122551012707\n"
     ]
    }
   ],
   "source": [
    "!ls *\n",
    "!head interactions.csv"
   ]
  },
  {
   "cell_type": "code",
   "execution_count": 8,
   "id": "e3e7615a-cc19-4c17-b8c9-cf7089eeefbb",
   "metadata": {},
   "outputs": [],
   "source": [
    "nodes_df = pd.read_csv('members.csv')\n",
    "edges_df = pd.read_csv('interactions.csv')\n",
    "\n"
   ]
  },
  {
   "cell_type": "code",
   "execution_count": 12,
   "id": "aa8f294b-3bf6-4327-b658-8a8fe87e0ed6",
   "metadata": {},
   "outputs": [],
   "source": [
    "# data = Data(x=)\n",
    "x = torch.from_numpy(nodes_df['Age'].to_numpy())\n",
    "y = torch.from_numpy(nodes_df['Club'].copy().astype('category').cat.codes.to_numpy())\n"
   ]
  },
  {
   "cell_type": "code",
   "execution_count": 15,
   "id": "3fd34431-9415-4dc1-8f44-219c9a705de1",
   "metadata": {},
   "outputs": [],
   "source": [
    "# edges_src = torch.from_numpy(edges_df['Src'].to_numpy())\n",
    "# edges_dst = torch.from_numpy(edges_df['Dst'].to_numpy())\n",
    "\n",
    "edge_index = torch.tensor((edges_df['Src'].to_numpy(), edges_df['Dst'].to_numpy()), dtype=torch.long)\n",
    "\n"
   ]
  },
  {
   "cell_type": "code",
   "execution_count": 16,
   "id": "991b99c7-dd78-41ef-94be-bceccb4aaeb8",
   "metadata": {},
   "outputs": [],
   "source": [
    "data = Data(x=x, edge_index=edge_index)\n"
   ]
  },
  {
   "cell_type": "code",
   "execution_count": null,
   "id": "2733f5f3-10b5-40c0-8771-0ee3d73daccf",
   "metadata": {},
   "outputs": [],
   "source": [
    "class MyOwnDataset(InMemoryDataset):\n",
    "    def __init__(self, root, transform=None, pre_transform=None):\n",
    "        super(MyOwnDataset, self).__init__(root, transform, pre_transform)\n",
    "        self.data, self.slices = torch.load(self.processed_paths[0])\n",
    "\n",
    "    @property\n",
    "    def raw_file_names(self):\n",
    "        return ['interactions.csv', 'members.csv']\n",
    "\n",
    "    @property\n",
    "    def processed_file_names(self):\n",
    "        return ['data.pt']\n",
    "\n",
    "    #def download(self):\n",
    "    #    # Download to `self.raw_dir`.\n",
    "    #    download_url(url, self.raw_dir)\n",
    "    #   ...\n",
    "\n",
    "    def process(self):\n",
    "        # Read data into huge `Data` list.\n",
    "        data_list = [...]\n",
    "\n",
    "        if self.pre_filter is not None:\n",
    "            data_list = [data for data in data_list if self.pre_filter(data)]\n",
    "\n",
    "        if self.pre_transform is not None:\n",
    "            data_list = [self.pre_transform(data) for data in data_list]\n",
    "\n",
    "        data, slices = self.collate(data_list)\n",
    "        torch.save((data, slices), self.processed_paths[0])"
   ]
  },
  {
   "cell_type": "code",
   "execution_count": null,
   "id": "d6e4019c-281e-4d72-a31b-52ff38b69c95",
   "metadata": {},
   "outputs": [],
   "source": [
    "!ls *\n"
   ]
  },
  {
   "cell_type": "code",
   "execution_count": null,
   "id": "dac7b352-3a8e-4ac5-bdb1-871e26862680",
   "metadata": {},
   "outputs": [],
   "source": []
  }
 ],
 "metadata": {
  "kernelspec": {
   "display_name": "pyTorGeo",
   "language": "python",
   "name": "pytorgeo"
  },
  "language_info": {
   "codemirror_mode": {
    "name": "ipython",
    "version": 3
   },
   "file_extension": ".py",
   "mimetype": "text/x-python",
   "name": "python",
   "nbconvert_exporter": "python",
   "pygments_lexer": "ipython3",
   "version": "3.9.5"
  }
 },
 "nbformat": 4,
 "nbformat_minor": 5
}
