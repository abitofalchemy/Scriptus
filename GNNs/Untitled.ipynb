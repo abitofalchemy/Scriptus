{
 "cells": [
  {
   "cell_type": "code",
   "execution_count": 1,
   "id": "62f2e270-ddf8-48b1-bf26-82cd53ba8e78",
   "metadata": {},
   "outputs": [],
   "source": [
    "# !conda uninstall pytorch -y\n"
   ]
  },
  {
   "cell_type": "code",
   "execution_count": 2,
   "id": "56caffe7-c4d8-4298-a852-2203fc18ff32",
   "metadata": {},
   "outputs": [],
   "source": [
    "# !pip uninstall torch \n",
    "# !pip uninstall torch"
   ]
  },
  {
   "cell_type": "code",
   "execution_count": 3,
   "id": "99748e6f-945b-42b9-bf43-10463839b1fc",
   "metadata": {},
   "outputs": [],
   "source": [
    "# !conda config --set ssl_verify no\n",
    "# # !conda install pytorch torchvision torchaudio -c pytorch -y\n",
    "# !conda install pytorch==1.8.0 torchvision==0.9.0 torchaudio==0.8.0 -c pytorch -y\n"
   ]
  },
  {
   "cell_type": "code",
   "execution_count": 4,
   "id": "575d6cf8-2419-4d79-a339-b91e50286c74",
   "metadata": {},
   "outputs": [
    {
     "name": "stderr",
     "output_type": "stream",
     "text": [
      "Using backend: pytorch\n"
     ]
    }
   ],
   "source": [
    "import dgl\n",
    "import torch\n",
    "import torch.nn as nn\n",
    "import torch.nn.functional as F"
   ]
  },
  {
   "cell_type": "code",
   "execution_count": 5,
   "id": "ffdf5e06-77b4-4c2a-b424-e18e97ed90c7",
   "metadata": {},
   "outputs": [
    {
     "data": {
      "text/plain": [
       "'1.8.0'"
      ]
     },
     "execution_count": 5,
     "metadata": {},
     "output_type": "execute_result"
    }
   ],
   "source": [
    "import torch\n",
    "torch.__version__"
   ]
  },
  {
   "cell_type": "code",
   "execution_count": 6,
   "id": "16e003ae-e9f0-4c16-b1a2-d13156fbb8f4",
   "metadata": {},
   "outputs": [
    {
     "name": "stdout",
     "output_type": "stream",
     "text": [
      "Downloading /Users/ag23268/.dgl/cora_v2.zip from https://data.dgl.ai/dataset/cora_v2.zip...\n",
      "Extracting file to /Users/ag23268/.dgl/cora_v2\n",
      "Finished data loading and preprocessing.\n",
      "  NumNodes: 2708\n",
      "  NumEdges: 10556\n",
      "  NumFeats: 1433\n",
      "  NumClasses: 7\n",
      "  NumTrainingSamples: 140\n",
      "  NumValidationSamples: 500\n",
      "  NumTestSamples: 1000\n",
      "Done saving data into cached files.\n",
      "Number of categories: 7\n"
     ]
    }
   ],
   "source": [
    "import dgl.data\n",
    "\n",
    "dataset = dgl.data.CoraGraphDataset()\n",
    "print('Number of categories:', dataset.num_classes)"
   ]
  },
  {
   "cell_type": "code",
   "execution_count": 7,
   "id": "6fa4913b-3bf6-4c47-8812-767280f0ac24",
   "metadata": {},
   "outputs": [],
   "source": [
    "g = dataset[0]\n"
   ]
  },
  {
   "cell_type": "code",
   "execution_count": 8,
   "id": "7341e821-3941-4fc6-9e23-98b54ef9ebb1",
   "metadata": {},
   "outputs": [
    {
     "name": "stdout",
     "output_type": "stream",
     "text": [
      "Node features\n",
      "{'train_mask': tensor([ True,  True,  True,  ..., False, False, False]), 'val_mask': tensor([False, False, False,  ..., False, False, False]), 'test_mask': tensor([False, False, False,  ...,  True,  True,  True]), 'label': tensor([3, 4, 4,  ..., 3, 3, 3]), 'feat': tensor([[0., 0., 0.,  ..., 0., 0., 0.],\n",
      "        [0., 0., 0.,  ..., 0., 0., 0.],\n",
      "        [0., 0., 0.,  ..., 0., 0., 0.],\n",
      "        ...,\n",
      "        [0., 0., 0.,  ..., 0., 0., 0.],\n",
      "        [0., 0., 0.,  ..., 0., 0., 0.],\n",
      "        [0., 0., 0.,  ..., 0., 0., 0.]])}\n",
      "Edge features\n",
      "{}\n"
     ]
    }
   ],
   "source": [
    "print('Node features')\n",
    "print(g.ndata)\n",
    "print('Edge features')\n",
    "print(g.edata)"
   ]
  },
  {
   "cell_type": "code",
   "execution_count": null,
   "id": "e76b7cfd-98ef-41d2-b224-52ffffb76ddb",
   "metadata": {},
   "outputs": [],
   "source": [
    "Defining a Graph Convolutional Network (GCN)\n",
    "This tutorial will build a two-layer Graph Convolutional Network (GCN). Each layer computes new node representations by aggregating neighbor information.\n",
    "\n",
    "To build a multi-layer GCN you can simply stack dgl.nn.GraphConv modules, which inherit torch.nn.Module.\n",
    "\n",
    "from dgl.nn import GraphConv\n",
    "\n",
    "class GCN(nn.Module):\n",
    "    def __init__(self, in_feats, h_feats, num_classes):\n",
    "        super(GCN, self).__init__()\n",
    "        self.conv1 = GraphConv(in_feats, h_feats)\n",
    "        self.conv2 = GraphConv(h_feats, num_classes)\n",
    "\n",
    "    def forward(self, g, in_feat):\n",
    "        h = self.conv1(g, in_feat)\n",
    "        h = F.relu(h)\n",
    "        h = self.conv2(g, h)\n",
    "        return h\n",
    "\n",
    "# Create the model with given dimensions\n",
    "model = GCN(g.ndata['feat'].shape[1], 16, dataset.num_classes)"
   ]
  }
 ],
 "metadata": {
  "kernelspec": {
   "display_name": "gnn38",
   "language": "python",
   "name": "gnn38"
  },
  "language_info": {
   "codemirror_mode": {
    "name": "ipython",
    "version": 3
   },
   "file_extension": ".py",
   "mimetype": "text/x-python",
   "name": "python",
   "nbconvert_exporter": "python",
   "pygments_lexer": "ipython3",
   "version": "3.8.10"
  }
 },
 "nbformat": 4,
 "nbformat_minor": 5
}
