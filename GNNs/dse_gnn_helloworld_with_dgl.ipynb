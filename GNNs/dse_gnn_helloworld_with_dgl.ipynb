{
 "cells": [
  {
   "cell_type": "code",
   "execution_count": 1,
   "id": "62f2e270-ddf8-48b1-bf26-82cd53ba8e78",
   "metadata": {},
   "outputs": [],
   "source": [
    "# !conda uninstall pytorch -y"
   ]
  },
  {
   "cell_type": "code",
   "execution_count": 2,
   "id": "56caffe7-c4d8-4298-a852-2203fc18ff32",
   "metadata": {},
   "outputs": [],
   "source": [
    "# !pip uninstall torch\n",
    "# !pip uninstall torch"
   ]
  },
  {
   "cell_type": "code",
   "execution_count": 3,
   "id": "99748e6f-945b-42b9-bf43-10463839b1fc",
   "metadata": {},
   "outputs": [],
   "source": [
    "# !conda config --set ssl_verify no\n",
    "# !conda install pytorch torchvision torchaudio -c pytorch -y\n",
    "# !conda install pytorch==1.8.0 torchvision==0.9.0 torchaudio==0.8.0 -c pytorch -y"
   ]
  },
  {
   "cell_type": "code",
   "execution_count": 4,
   "id": "575d6cf8-2419-4d79-a339-b91e50286c74",
   "metadata": {},
   "outputs": [
    {
     "name": "stderr",
     "output_type": "stream",
     "text": [
      "Using backend: pytorch\n"
     ]
    }
   ],
   "source": [
    "import dgl\n",
    "import torch\n",
    "import torch.nn as nn\n",
    "import torch.nn.functional as F"
   ]
  },
  {
   "cell_type": "code",
   "execution_count": 5,
   "id": "ffdf5e06-77b4-4c2a-b424-e18e97ed90c7",
   "metadata": {},
   "outputs": [
    {
     "data": {
      "text/plain": [
       "'1.8.0'"
      ]
     },
     "execution_count": 5,
     "metadata": {},
     "output_type": "execute_result"
    }
   ],
   "source": [
    "import torch\n",
    "torch.__version__"
   ]
  },
  {
   "cell_type": "code",
   "execution_count": 6,
   "id": "16e003ae-e9f0-4c16-b1a2-d13156fbb8f4",
   "metadata": {},
   "outputs": [
    {
     "name": "stdout",
     "output_type": "stream",
     "text": [
      "Downloading /Users/ag23268/.dgl/cora_v2.zip from https://data.dgl.ai/dataset/cora_v2.zip...\n",
      "Extracting file to /Users/ag23268/.dgl/cora_v2\n",
      "Finished data loading and preprocessing.\n",
      "  NumNodes: 2708\n",
      "  NumEdges: 10556\n",
      "  NumFeats: 1433\n",
      "  NumClasses: 7\n",
      "  NumTrainingSamples: 140\n",
      "  NumValidationSamples: 500\n",
      "  NumTestSamples: 1000\n",
      "Done saving data into cached files.\n",
      "Number of categories: 7\n"
     ]
    }
   ],
   "source": [
    "import dgl.data\n",
    "\n",
    "dataset = dgl.data.CoraGraphDataset()\n",
    "print('Number of categories:', dataset.num_classes)"
   ]
  },
  {
   "cell_type": "code",
   "execution_count": 7,
   "id": "6fa4913b-3bf6-4c47-8812-767280f0ac24",
   "metadata": {},
   "outputs": [],
   "source": [
    "g = dataset[0]"
   ]
  },
  {
   "cell_type": "code",
   "execution_count": 8,
   "id": "7341e821-3941-4fc6-9e23-98b54ef9ebb1",
   "metadata": {},
   "outputs": [
    {
     "name": "stdout",
     "output_type": "stream",
     "text": [
      "Node features\n",
      "{'train_mask': tensor([ True,  True,  True,  ..., False, False, False]), 'val_mask': tensor([False, False, False,  ..., False, False, False]), 'test_mask': tensor([False, False, False,  ...,  True,  True,  True]), 'label': tensor([3, 4, 4,  ..., 3, 3, 3]), 'feat': tensor([[0., 0., 0.,  ..., 0., 0., 0.],\n",
      "        [0., 0., 0.,  ..., 0., 0., 0.],\n",
      "        [0., 0., 0.,  ..., 0., 0., 0.],\n",
      "        ...,\n",
      "        [0., 0., 0.,  ..., 0., 0., 0.],\n",
      "        [0., 0., 0.,  ..., 0., 0., 0.],\n",
      "        [0., 0., 0.,  ..., 0., 0., 0.]])}\n",
      "Edge features\n",
      "{}\n"
     ]
    }
   ],
   "source": [
    "print('Node features')\n",
    "print(g.ndata)\n",
    "print('Edge features')\n",
    "print(g.edata)"
   ]
  },
  {
   "cell_type": "markdown",
   "id": "de583ab3-6b86-44dd-b02c-e70084b2a06f",
   "metadata": {},
   "source": [
    "Defining a Graph Convolutional Network (GCN)\n",
    "This tutorial will build a two-layer Graph Convolutional Network (GCN). Each layer computes new node representations by aggregating neighbor information.\n",
    "\n",
    "To build a multi-layer GCN you can simply stack dgl.nn.GraphConv modules, which inherit torch.nn.Module.\n",
    "\n"
   ]
  },
  {
   "cell_type": "code",
   "execution_count": 9,
   "id": "c78ea2f4-0edd-4732-806d-0a4cf7653886",
   "metadata": {},
   "outputs": [],
   "source": [
    "from dgl.nn import GraphConv\n",
    "\n",
    "class GCN(nn.Module):\n",
    "    def __init__(self, in_feats, h_feats, num_classes):\n",
    "        super(GCN, self).__init__()\n",
    "        self.conv1 = GraphConv(in_feats, h_feats)\n",
    "        self.conv2 = GraphConv(h_feats, num_classes)\n",
    "\n",
    "    def forward(self, g, in_feat):\n",
    "        h = self.conv1(g, in_feat)\n",
    "        h = F.relu(h)\n",
    "        h = self.conv2(g, h)\n",
    "        return h\n",
    "\n",
    "# Create the model with given dimensions\n",
    "model = GCN(g.ndata['feat'].shape[1], 16, dataset.num_classes)"
   ]
  },
  {
   "cell_type": "code",
   "execution_count": 10,
   "id": "4e388a4b-816e-4b40-9232-6752f545c72f",
   "metadata": {},
   "outputs": [
    {
     "name": "stdout",
     "output_type": "stream",
     "text": [
      "In epoch 0, loss: 1.946, val acc: 0.184 (best 0.184), test acc: 0.190 (best 0.190)\n",
      "In epoch 5, loss: 1.895, val acc: 0.578 (best 0.578), test acc: 0.592 (best 0.592)\n",
      "In epoch 10, loss: 1.817, val acc: 0.550 (best 0.578), test acc: 0.562 (best 0.592)\n",
      "In epoch 15, loss: 1.716, val acc: 0.606 (best 0.606), test acc: 0.625 (best 0.625)\n",
      "In epoch 20, loss: 1.594, val acc: 0.666 (best 0.666), test acc: 0.694 (best 0.694)\n",
      "In epoch 25, loss: 1.454, val acc: 0.676 (best 0.682), test acc: 0.714 (best 0.705)\n",
      "In epoch 30, loss: 1.300, val acc: 0.714 (best 0.714), test acc: 0.728 (best 0.728)\n",
      "In epoch 35, loss: 1.140, val acc: 0.726 (best 0.726), test acc: 0.743 (best 0.743)\n",
      "In epoch 40, loss: 0.980, val acc: 0.738 (best 0.740), test acc: 0.748 (best 0.748)\n",
      "In epoch 45, loss: 0.828, val acc: 0.744 (best 0.744), test acc: 0.757 (best 0.755)\n",
      "In epoch 50, loss: 0.690, val acc: 0.754 (best 0.754), test acc: 0.763 (best 0.763)\n",
      "In epoch 55, loss: 0.568, val acc: 0.760 (best 0.760), test acc: 0.772 (best 0.772)\n",
      "In epoch 60, loss: 0.464, val acc: 0.770 (best 0.770), test acc: 0.770 (best 0.770)\n",
      "In epoch 65, loss: 0.379, val acc: 0.776 (best 0.776), test acc: 0.772 (best 0.770)\n",
      "In epoch 70, loss: 0.309, val acc: 0.780 (best 0.780), test acc: 0.771 (best 0.771)\n",
      "In epoch 75, loss: 0.254, val acc: 0.776 (best 0.780), test acc: 0.772 (best 0.771)\n",
      "In epoch 80, loss: 0.210, val acc: 0.778 (best 0.780), test acc: 0.772 (best 0.771)\n",
      "In epoch 85, loss: 0.175, val acc: 0.776 (best 0.780), test acc: 0.777 (best 0.771)\n",
      "In epoch 90, loss: 0.147, val acc: 0.776 (best 0.780), test acc: 0.775 (best 0.771)\n",
      "In epoch 95, loss: 0.124, val acc: 0.778 (best 0.780), test acc: 0.772 (best 0.771)\n"
     ]
    }
   ],
   "source": [
    "def train(g, model):\n",
    "    optimizer = torch.optim.Adam(model.parameters(), lr=0.01)\n",
    "    best_val_acc = 0\n",
    "    best_test_acc = 0\n",
    "\n",
    "    features = g.ndata['feat']\n",
    "    labels = g.ndata['label']\n",
    "    train_mask = g.ndata['train_mask']\n",
    "    val_mask = g.ndata['val_mask']\n",
    "    test_mask = g.ndata['test_mask']\n",
    "    for e in range(100):\n",
    "        # Forward\n",
    "        logits = model(g, features)\n",
    "\n",
    "        # Compute prediction\n",
    "        pred = logits.argmax(1)\n",
    "\n",
    "        # Compute loss\n",
    "        # Note that you should only compute the losses of the nodes in the training set.\n",
    "        loss = F.cross_entropy(logits[train_mask], labels[train_mask])\n",
    "\n",
    "        # Compute accuracy on training/validation/test\n",
    "        train_acc = (pred[train_mask] == labels[train_mask]).float().mean()\n",
    "        val_acc = (pred[val_mask] == labels[val_mask]).float().mean()\n",
    "        test_acc = (pred[test_mask] == labels[test_mask]).float().mean()\n",
    "\n",
    "        # Save the best validation accuracy and the corresponding test accuracy.\n",
    "        if best_val_acc < val_acc:\n",
    "            best_val_acc = val_acc\n",
    "            best_test_acc = test_acc\n",
    "\n",
    "        # Backward\n",
    "        optimizer.zero_grad()\n",
    "        loss.backward()\n",
    "        optimizer.step()\n",
    "\n",
    "        if e % 5 == 0:\n",
    "            print('In epoch {}, loss: {:.3f}, val acc: {:.3f} (best {:.3f}), test acc: {:.3f} (best {:.3f})'.format(\n",
    "                e, loss, val_acc, best_val_acc, test_acc, best_test_acc))\n",
    "model = GCN(g.ndata['feat'].shape[1], 16, dataset.num_classes)\n",
    "train(g, model)"
   ]
  },
  {
   "cell_type": "code",
   "execution_count": null,
   "id": "27e71e2c-adf6-4c26-b96f-6541d65ffbce",
   "metadata": {},
   "outputs": [],
   "source": []
  }
 ],
 "metadata": {
  "kernelspec": {
   "display_name": "gnn38",
   "language": "python",
   "name": "gnn38"
  },
  "language_info": {
   "codemirror_mode": {
    "name": "ipython",
    "version": 3
   },
   "file_extension": ".py",
   "mimetype": "text/x-python",
   "name": "python",
   "nbconvert_exporter": "python",
   "pygments_lexer": "ipython3",
   "version": "3.8.10"
  }
 },
 "nbformat": 4,
 "nbformat_minor": 5
}
