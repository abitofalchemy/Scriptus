{
 "cells": [
  {
   "cell_type": "markdown",
   "id": "3c8ad2f6-fe06-4801-aca4-74da5967a2ca",
   "metadata": {},
   "source": [
    "Node Classficiation with GNNs Baseline\n",
    "======================================\n",
    "\n",
    "1. [Introduction](#sec_intro)\n",
    "2. [Setup](#sec_setup)\n",
    "3. [Prepare the Dataset](#sec_dat_prep)\n",
    "    - Download the dataset from Hive\n",
    "    - Process and visualize the dataset\n",
    "    - Split the dataset into stratified train and test sets\n",
    "4. [Implement Train and Evaluate Experiment](#sec_train_eval)\n",
    "5. [Implement Feedforward Network (FFN) Module](#sec_ffn)\n",
    "6. Build a Baseline Neural Network Model\n",
    "    - Prepare the data for the baseline model\n",
    "    - Implement a baseline classifier\n",
    "    - Train the baseline classifier\n",
    "    - Examine the baseline model predictions\n",
    "7. Build a Graph Neural Network Model\n",
    "    - Prepare the data for the graph model\n",
    "    - Implement a graph convolution layer\n",
    "    - Implement a graph neural network node classifier\n",
    "    - Train the GNN model\n",
    "    - Examine the GNN model predictions"
   ]
  },
  {
   "cell_type": "markdown",
   "id": "f6e8d89a-d3f6-4f75-b7a5-e0f4c1aa788a",
   "metadata": {},
   "source": [
    "## Revision\n",
    "\n",
    "| Date  | Notes \n",
    "|-------|------------------|\n",
    "| 21Jun | Exploring Pytorch and Tensorflow (TF) backends; Pytorch is working with DGL. "
   ]
  },
  {
   "cell_type": "markdown",
   "id": "6f525f40-fddf-4a3d-aaae-ba1370d3b4f4",
   "metadata": {},
   "source": [
    "## Introuction\n",
    "\n",
    "**Risky Providers.**  Within the domain of fraud and abuse, the Product Integrity team \n",
    "has identified a use-case where they want to identify or flag providers engaging in risky behavior. The objective is to label providers either as risky or not risky.\n",
    "\n",
    "The proposed solution is to use graph represenation learning ([1],[2]) for classification from raw data. Graph representation learning automatically discovers the representations needed or in other words performs autmatic feature learning to achieve a classification goal. The discovery of these latent features is achieved by way of embeddings and the structure of the underlying data. \n",
    "\n",
    "Here a graph neural network (GNN) model is built to demonstrate the predictive power and potential of graph representions inherent in Anthem data for node and graph classficiation or link prediction. \n",
    "\n",
    "\n",
    "\n",
    "## Troubleshooting\n",
    "\n",
    "Backend: Tensorflow \n",
    "Platform: macos (macbook pro) with Catalina\n",
    "\n",
    "Not sure this is will be an issue, but installed TF will work or not, but installed using `conda install -c conda-forge tensorflow`.\n",
    "\n",
    "\n",
    "Using Tensorflow: <https://github.com/apple/tensorflow_macos/issues/153>\n",
    "\n",
    "\n",
    "[1]: https://www.cs.mcgill.ca/~wlh/grl_book/files/GRL_Book.pdf\n",
    "[2]: https://paperswithcode.com/task/graph-representation-learning\n"
   ]
  },
  {
   "cell_type": "markdown",
   "id": "d55e9ed1-3b4b-44ae-82f4-8b672c9f9233",
   "metadata": {},
   "source": [
    "## Setup "
   ]
  },
  {
   "cell_type": "code",
   "execution_count": null,
   "id": "19cf1fed-31db-4867-8a07-155970afe560",
   "metadata": {},
   "outputs": [],
   "source": [
    "# !conda install -c conda-forge matplotlib -y\n",
    "# !conda install -c conda-forge tensorflow -y"
   ]
  },
  {
   "cell_type": "code",
   "execution_count": 6,
   "id": "8ade37b9-cb4a-47c3-887b-911939910a17",
   "metadata": {},
   "outputs": [
    {
     "ename": "ImportError",
     "evalue": "Traceback (most recent call last):\n  File \"/Users/ag23268/opt/anaconda3/envs/gnn38/lib/python3.8/site-packages/tensorflow/python/pywrap_tensorflow.py\", line 64, in <module>\n    from tensorflow.python._pywrap_tensorflow_internal import *\nImportError: dlopen(/Users/ag23268/opt/anaconda3/envs/gnn38/lib/python3.8/site-packages/tensorflow/python/_pywrap_tensorflow_internal.so, 6): Library not loaded: @rpath/libjpeg.9.dylib\n  Referenced from: /Users/ag23268/opt/anaconda3/envs/gnn38/lib/python3.8/site-packages/tensorflow/python/_pywrap_tensorflow_internal.so\n  Reason: Incompatible library version: _pywrap_tensorflow_internal.so requires version 14.0.0 or later, but libjpeg.9.dylib provides version 12.0.0\n\n\nFailed to load the native TensorFlow runtime.\n\nSee https://www.tensorflow.org/install/errors\n\nfor some common reasons and solutions.  Include the entire stack trace\nabove this error message when asking for help.",
     "output_type": "error",
     "traceback": [
      "\u001b[0;31m---------------------------------------------------------------------------\u001b[0m",
      "\u001b[0;31mImportError\u001b[0m                               Traceback (most recent call last)",
      "\u001b[0;32m~/opt/anaconda3/envs/gnn38/lib/python3.8/site-packages/tensorflow/python/pywrap_tensorflow.py\u001b[0m in \u001b[0;36m<module>\u001b[0;34m\u001b[0m\n\u001b[1;32m     63\u001b[0m   \u001b[0;32mtry\u001b[0m\u001b[0;34m:\u001b[0m\u001b[0;34m\u001b[0m\u001b[0;34m\u001b[0m\u001b[0m\n\u001b[0;32m---> 64\u001b[0;31m     \u001b[0;32mfrom\u001b[0m \u001b[0mtensorflow\u001b[0m\u001b[0;34m.\u001b[0m\u001b[0mpython\u001b[0m\u001b[0;34m.\u001b[0m\u001b[0m_pywrap_tensorflow_internal\u001b[0m \u001b[0;32mimport\u001b[0m \u001b[0;34m*\u001b[0m\u001b[0;34m\u001b[0m\u001b[0;34m\u001b[0m\u001b[0m\n\u001b[0m\u001b[1;32m     65\u001b[0m   \u001b[0;31m# This try catch logic is because there is no bazel equivalent for py_extension.\u001b[0m\u001b[0;34m\u001b[0m\u001b[0;34m\u001b[0m\u001b[0;34m\u001b[0m\u001b[0m\n",
      "\u001b[0;31mImportError\u001b[0m: dlopen(/Users/ag23268/opt/anaconda3/envs/gnn38/lib/python3.8/site-packages/tensorflow/python/_pywrap_tensorflow_internal.so, 6): Library not loaded: @rpath/libjpeg.9.dylib\n  Referenced from: /Users/ag23268/opt/anaconda3/envs/gnn38/lib/python3.8/site-packages/tensorflow/python/_pywrap_tensorflow_internal.so\n  Reason: Incompatible library version: _pywrap_tensorflow_internal.so requires version 14.0.0 or later, but libjpeg.9.dylib provides version 12.0.0",
      "\nDuring handling of the above exception, another exception occurred:\n",
      "\u001b[0;31mImportError\u001b[0m                               Traceback (most recent call last)",
      "\u001b[0;32m<ipython-input-6-ae164b795b14>\u001b[0m in \u001b[0;36m<module>\u001b[0;34m\u001b[0m\n\u001b[1;32m      4\u001b[0m \u001b[0;32mimport\u001b[0m \u001b[0mnetworkx\u001b[0m \u001b[0;32mas\u001b[0m \u001b[0mnx\u001b[0m\u001b[0;34m\u001b[0m\u001b[0;34m\u001b[0m\u001b[0m\n\u001b[1;32m      5\u001b[0m \u001b[0;32mimport\u001b[0m \u001b[0mmatplotlib\u001b[0m\u001b[0;34m.\u001b[0m\u001b[0mpyplot\u001b[0m \u001b[0;32mas\u001b[0m \u001b[0mplt\u001b[0m\u001b[0;34m\u001b[0m\u001b[0;34m\u001b[0m\u001b[0m\n\u001b[0;32m----> 6\u001b[0;31m \u001b[0;32mimport\u001b[0m \u001b[0mtensorflow\u001b[0m \u001b[0;32mas\u001b[0m \u001b[0mtf\u001b[0m\u001b[0;34m\u001b[0m\u001b[0;34m\u001b[0m\u001b[0m\n\u001b[0m\u001b[1;32m      7\u001b[0m \u001b[0;32mfrom\u001b[0m \u001b[0mtensorflow\u001b[0m \u001b[0;32mimport\u001b[0m \u001b[0mkeras\u001b[0m\u001b[0;34m\u001b[0m\u001b[0;34m\u001b[0m\u001b[0m\n\u001b[1;32m      8\u001b[0m \u001b[0;32mfrom\u001b[0m \u001b[0mtensorflow\u001b[0m\u001b[0;34m.\u001b[0m\u001b[0mkeras\u001b[0m \u001b[0;32mimport\u001b[0m \u001b[0mlayers\u001b[0m\u001b[0;34m\u001b[0m\u001b[0;34m\u001b[0m\u001b[0m\n",
      "\u001b[0;32m~/opt/anaconda3/envs/gnn38/lib/python3.8/site-packages/tensorflow/__init__.py\u001b[0m in \u001b[0;36m<module>\u001b[0;34m\u001b[0m\n\u001b[1;32m     39\u001b[0m \u001b[0;32mimport\u001b[0m \u001b[0msys\u001b[0m \u001b[0;32mas\u001b[0m \u001b[0m_sys\u001b[0m\u001b[0;34m\u001b[0m\u001b[0;34m\u001b[0m\u001b[0m\n\u001b[1;32m     40\u001b[0m \u001b[0;34m\u001b[0m\u001b[0m\n\u001b[0;32m---> 41\u001b[0;31m \u001b[0;32mfrom\u001b[0m \u001b[0mtensorflow\u001b[0m\u001b[0;34m.\u001b[0m\u001b[0mpython\u001b[0m\u001b[0;34m.\u001b[0m\u001b[0mtools\u001b[0m \u001b[0;32mimport\u001b[0m \u001b[0mmodule_util\u001b[0m \u001b[0;32mas\u001b[0m \u001b[0m_module_util\u001b[0m\u001b[0;34m\u001b[0m\u001b[0;34m\u001b[0m\u001b[0m\n\u001b[0m\u001b[1;32m     42\u001b[0m \u001b[0;32mfrom\u001b[0m \u001b[0mtensorflow\u001b[0m\u001b[0;34m.\u001b[0m\u001b[0mpython\u001b[0m\u001b[0;34m.\u001b[0m\u001b[0mutil\u001b[0m\u001b[0;34m.\u001b[0m\u001b[0mlazy_loader\u001b[0m \u001b[0;32mimport\u001b[0m \u001b[0mLazyLoader\u001b[0m \u001b[0;32mas\u001b[0m \u001b[0m_LazyLoader\u001b[0m\u001b[0;34m\u001b[0m\u001b[0;34m\u001b[0m\u001b[0m\n\u001b[1;32m     43\u001b[0m \u001b[0;34m\u001b[0m\u001b[0m\n",
      "\u001b[0;32m~/opt/anaconda3/envs/gnn38/lib/python3.8/site-packages/tensorflow/python/__init__.py\u001b[0m in \u001b[0;36m<module>\u001b[0;34m\u001b[0m\n\u001b[1;32m     37\u001b[0m \u001b[0;31m# go/tf-wildcard-import\u001b[0m\u001b[0;34m\u001b[0m\u001b[0;34m\u001b[0m\u001b[0;34m\u001b[0m\u001b[0m\n\u001b[1;32m     38\u001b[0m \u001b[0;31m# pylint: disable=wildcard-import,g-bad-import-order,g-import-not-at-top\u001b[0m\u001b[0;34m\u001b[0m\u001b[0;34m\u001b[0m\u001b[0;34m\u001b[0m\u001b[0m\n\u001b[0;32m---> 39\u001b[0;31m \u001b[0;32mfrom\u001b[0m \u001b[0mtensorflow\u001b[0m\u001b[0;34m.\u001b[0m\u001b[0mpython\u001b[0m \u001b[0;32mimport\u001b[0m \u001b[0mpywrap_tensorflow\u001b[0m \u001b[0;32mas\u001b[0m \u001b[0m_pywrap_tensorflow\u001b[0m\u001b[0;34m\u001b[0m\u001b[0;34m\u001b[0m\u001b[0m\n\u001b[0m\u001b[1;32m     40\u001b[0m \u001b[0;34m\u001b[0m\u001b[0m\n\u001b[1;32m     41\u001b[0m \u001b[0;32mfrom\u001b[0m \u001b[0mtensorflow\u001b[0m\u001b[0;34m.\u001b[0m\u001b[0mpython\u001b[0m\u001b[0;34m.\u001b[0m\u001b[0meager\u001b[0m \u001b[0;32mimport\u001b[0m \u001b[0mcontext\u001b[0m\u001b[0;34m\u001b[0m\u001b[0;34m\u001b[0m\u001b[0m\n",
      "\u001b[0;32m~/opt/anaconda3/envs/gnn38/lib/python3.8/site-packages/tensorflow/python/pywrap_tensorflow.py\u001b[0m in \u001b[0;36m<module>\u001b[0;34m\u001b[0m\n\u001b[1;32m     81\u001b[0m \u001b[0;32mfor\u001b[0m \u001b[0msome\u001b[0m \u001b[0mcommon\u001b[0m \u001b[0mreasons\u001b[0m \u001b[0;32mand\u001b[0m \u001b[0msolutions\u001b[0m\u001b[0;34m.\u001b[0m  \u001b[0mInclude\u001b[0m \u001b[0mthe\u001b[0m \u001b[0mentire\u001b[0m \u001b[0mstack\u001b[0m \u001b[0mtrace\u001b[0m\u001b[0;34m\u001b[0m\u001b[0;34m\u001b[0m\u001b[0m\n\u001b[1;32m     82\u001b[0m above this error message when asking for help.\"\"\" % traceback.format_exc()\n\u001b[0;32m---> 83\u001b[0;31m   \u001b[0;32mraise\u001b[0m \u001b[0mImportError\u001b[0m\u001b[0;34m(\u001b[0m\u001b[0mmsg\u001b[0m\u001b[0;34m)\u001b[0m\u001b[0;34m\u001b[0m\u001b[0;34m\u001b[0m\u001b[0m\n\u001b[0m\u001b[1;32m     84\u001b[0m \u001b[0;34m\u001b[0m\u001b[0m\n\u001b[1;32m     85\u001b[0m \u001b[0;31m# pylint: enable=wildcard-import,g-import-not-at-top,unused-import,line-too-long\u001b[0m\u001b[0;34m\u001b[0m\u001b[0;34m\u001b[0m\u001b[0;34m\u001b[0m\u001b[0m\n",
      "\u001b[0;31mImportError\u001b[0m: Traceback (most recent call last):\n  File \"/Users/ag23268/opt/anaconda3/envs/gnn38/lib/python3.8/site-packages/tensorflow/python/pywrap_tensorflow.py\", line 64, in <module>\n    from tensorflow.python._pywrap_tensorflow_internal import *\nImportError: dlopen(/Users/ag23268/opt/anaconda3/envs/gnn38/lib/python3.8/site-packages/tensorflow/python/_pywrap_tensorflow_internal.so, 6): Library not loaded: @rpath/libjpeg.9.dylib\n  Referenced from: /Users/ag23268/opt/anaconda3/envs/gnn38/lib/python3.8/site-packages/tensorflow/python/_pywrap_tensorflow_internal.so\n  Reason: Incompatible library version: _pywrap_tensorflow_internal.so requires version 14.0.0 or later, but libjpeg.9.dylib provides version 12.0.0\n\n\nFailed to load the native TensorFlow runtime.\n\nSee https://www.tensorflow.org/install/errors\n\nfor some common reasons and solutions.  Include the entire stack trace\nabove this error message when asking for help."
     ]
    }
   ],
   "source": [
    "import os \n",
    "import pandas as pd\n",
    "import numpy as np\n",
    "import networkx as nx\n",
    "import matplotlib.pyplot as plt\n",
    "import tensorflow as tf\n",
    "from tensorflow import keras\n",
    "from tensorflow.keras import layers"
   ]
  },
  {
   "cell_type": "code",
   "execution_count": null,
   "id": "f4c36b83-c147-49b4-add1-9fd939831c0a",
   "metadata": {},
   "outputs": [],
   "source": [
    "# from torch_geometric.datasets import Planetoid\n",
    "from torch_geometric.transforms import NormalizeFeatures\n"
   ]
  },
  {
   "cell_type": "code",
   "execution_count": null,
   "id": "9676fb6d-1efd-472e-9781-d00f6de2ceb7",
   "metadata": {},
   "outputs": [],
   "source": [
    "!ls *"
   ]
  },
  {
   "cell_type": "code",
   "execution_count": null,
   "id": "4dfa0989-854c-4c34-9c15-4a22508332f2",
   "metadata": {},
   "outputs": [],
   "source": []
  }
 ],
 "metadata": {
  "kernelspec": {
   "display_name": "gnn38",
   "language": "python",
   "name": "gnn38"
  },
  "language_info": {
   "codemirror_mode": {
    "name": "ipython",
    "version": 3
   },
   "file_extension": ".py",
   "mimetype": "text/x-python",
   "name": "python",
   "nbconvert_exporter": "python",
   "pygments_lexer": "ipython3",
   "version": "3.8.10"
  }
 },
 "nbformat": 4,
 "nbformat_minor": 5
}
