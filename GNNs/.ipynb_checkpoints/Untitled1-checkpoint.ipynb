{
 "cells": [
  {
   "cell_type": "markdown",
   "id": "e271ff01-f1e8-4993-b0dc-7c11d0f23ace",
   "metadata": {},
   "source": [
    "# Makin My Own Datasets\n",
    "\n",
    "Datasets from source files (CSV or TSV)\n"
   ]
  },
  {
   "cell_type": "code",
   "execution_count": null,
   "id": "64690925-7ea2-4db2-b24f-f6a69556b75b",
   "metadata": {},
   "outputs": [],
   "source": []
  }
 ],
 "metadata": {
  "kernelspec": {
   "display_name": "gnn38",
   "language": "python",
   "name": "gnn38"
  },
  "language_info": {
   "codemirror_mode": {
    "name": "ipython",
    "version": 3
   },
   "file_extension": ".py",
   "mimetype": "text/x-python",
   "name": "python",
   "nbconvert_exporter": "python",
   "pygments_lexer": "ipython3",
   "version": "3.8.10"
  }
 },
 "nbformat": 4,
 "nbformat_minor": 5
}
