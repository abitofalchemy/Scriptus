{
 "cells": [
  {
   "cell_type": "markdown",
   "id": "3c8ad2f6-fe06-4801-aca4-74da5967a2ca",
   "metadata": {},
   "source": [
    "Node Classficiation with GNNs Baseline\n",
    "======================================\n",
    "\n",
    "1. [Introduction](#sec_intro)\n",
    "2. [Setup](#sec_setup)\n",
    "3. [Prepare the Dataset](#sec_dat_prep)\n",
    "    - Download the dataset from Hive\n",
    "    - Process and visualize the dataset\n",
    "    - Split the dataset into stratified train and test sets\n",
    "4. [Implement Train and Evaluate Experiment](#sec_train_eval)\n",
    "5. [Implement Feedforward Network (FFN) Module](#sec_ffn)\n",
    "6. Build a Baseline Neural Network Model\n",
    "    - Prepare the data for the baseline model\n",
    "    - Implement a baseline classifier\n",
    "    - Train the baseline classifier\n",
    "    - Examine the baseline model predictions\n",
    "7. Build a Graph Neural Network Model\n",
    "    - Prepare the data for the graph model\n",
    "    - Implement a graph convolution layer\n",
    "    - Implement a graph neural network node classifier\n",
    "    - Train the GNN model\n",
    "    - Examine the GNN model predictions"
   ]
  },
  {
   "cell_type": "markdown",
   "id": "f6e8d89a-d3f6-4f75-b7a5-e0f4c1aa788a",
   "metadata": {},
   "source": [
    "[1]: https://www.cs.mcgill.ca/~wlh/grl_book/files/GRL_Book.pdf\n",
    "[2]: https://paperswithcode.com/task/graph-representation-learning"
   ]
  },
  {
   "cell_type": "markdown",
   "id": "6f525f40-fddf-4a3d-aaae-ba1370d3b4f4",
   "metadata": {},
   "source": [
    "## Introuction\n",
    "\n",
    "**Risky Providers.**  Within the domain of fraud and abuse, the Product Integrity team \n",
    "has identified a use-case where they want to identify or flag providers engaging in risky behavior. The objective is to label providers either as risky or not risky.\n",
    "\n",
    "The proposed solution is to use graph represenation learning[1,2] for classification from raw data. Graph representation learning automatically discovers the representations needed or in other words performs autmatic feature learning to achieve a classification goal. The discovery of these latent features is achieved by way of embeddings and the structure of the underlying data. \n",
    "\n",
    "Here a graph neural network (GNN) model is built to demonstrate the predictive power and potential of graph representions inherent in Anthem data for node and graph classficiation or link prediction. \n",
    "\n",
    "\n",
    "\n"
   ]
  },
  {
   "cell_type": "markdown",
   "id": "d55e9ed1-3b4b-44ae-82f4-8b672c9f9233",
   "metadata": {},
   "source": [
    "## Setup "
   ]
  },
  {
   "cell_type": "code",
   "execution_count": 3,
   "id": "19cf1fed-31db-4867-8a07-155970afe560",
   "metadata": {},
   "outputs": [
    {
     "name": "stdout",
     "output_type": "stream",
     "text": [
      "Collecting package metadata (current_repodata.json): done\n",
      "Solving environment: done\n",
      "\n",
      "## Package Plan ##\n",
      "\n",
      "  environment location: /Users/ag23268/opt/anaconda3/envs/gnn38\n",
      "\n",
      "  added / updated specs:\n",
      "    - matplotlib\n",
      "\n",
      "\n",
      "The following packages will be downloaded:\n",
      "\n",
      "    package                    |            build\n",
      "    ---------------------------|-----------------\n",
      "    matplotlib-3.4.2           |   py38h50d1736_0           7 KB  conda-forge\n",
      "    matplotlib-base-3.4.2      |   py38h6152e83_0         7.3 MB  conda-forge\n",
      "    ------------------------------------------------------------\n",
      "                                           Total:         7.3 MB\n",
      "\n",
      "The following NEW packages will be INSTALLED:\n",
      "\n",
      "  cycler             conda-forge/noarch::cycler-0.10.0-py_2\n",
      "  kiwisolver         conda-forge/osx-64::kiwisolver-1.3.1-py38hd9c93a9_1\n",
      "  matplotlib         conda-forge/osx-64::matplotlib-3.4.2-py38h50d1736_0\n",
      "  matplotlib-base    conda-forge/osx-64::matplotlib-base-3.4.2-py38h6152e83_0\n",
      "\n",
      "\n",
      "\n",
      "Downloading and Extracting Packages\n",
      "matplotlib-3.4.2     | 7 KB      | ##################################### | 100% \n",
      "matplotlib-base-3.4. | 7.3 MB    | ##################################### | 100% \n",
      "Preparing transaction: done\n",
      "Verifying transaction: done\n",
      "Executing transaction: done\n"
     ]
    }
   ],
   "source": [
    "!conda install -c conda-forge matplotlib -y"
   ]
  },
  {
   "cell_type": "code",
   "execution_count": 2,
   "id": "8ade37b9-cb4a-47c3-887b-911939910a17",
   "metadata": {},
   "outputs": [
    {
     "ename": "ModuleNotFoundError",
     "evalue": "No module named 'matplotlib'",
     "output_type": "error",
     "traceback": [
      "\u001b[0;31m---------------------------------------------------------------------------\u001b[0m",
      "\u001b[0;31mModuleNotFoundError\u001b[0m                       Traceback (most recent call last)",
      "\u001b[0;32m<ipython-input-2-ae164b795b14>\u001b[0m in \u001b[0;36m<module>\u001b[0;34m\u001b[0m\n\u001b[1;32m      3\u001b[0m \u001b[0;32mimport\u001b[0m \u001b[0mnumpy\u001b[0m \u001b[0;32mas\u001b[0m \u001b[0mnp\u001b[0m\u001b[0;34m\u001b[0m\u001b[0;34m\u001b[0m\u001b[0m\n\u001b[1;32m      4\u001b[0m \u001b[0;32mimport\u001b[0m \u001b[0mnetworkx\u001b[0m \u001b[0;32mas\u001b[0m \u001b[0mnx\u001b[0m\u001b[0;34m\u001b[0m\u001b[0;34m\u001b[0m\u001b[0m\n\u001b[0;32m----> 5\u001b[0;31m \u001b[0;32mimport\u001b[0m \u001b[0mmatplotlib\u001b[0m\u001b[0;34m.\u001b[0m\u001b[0mpyplot\u001b[0m \u001b[0;32mas\u001b[0m \u001b[0mplt\u001b[0m\u001b[0;34m\u001b[0m\u001b[0;34m\u001b[0m\u001b[0m\n\u001b[0m\u001b[1;32m      6\u001b[0m \u001b[0;32mimport\u001b[0m \u001b[0mtensorflow\u001b[0m \u001b[0;32mas\u001b[0m \u001b[0mtf\u001b[0m\u001b[0;34m\u001b[0m\u001b[0;34m\u001b[0m\u001b[0m\n\u001b[1;32m      7\u001b[0m \u001b[0;32mfrom\u001b[0m \u001b[0mtensorflow\u001b[0m \u001b[0;32mimport\u001b[0m \u001b[0mkeras\u001b[0m\u001b[0;34m\u001b[0m\u001b[0;34m\u001b[0m\u001b[0m\n",
      "\u001b[0;31mModuleNotFoundError\u001b[0m: No module named 'matplotlib'"
     ]
    }
   ],
   "source": [
    "import os \n",
    "import pandas as pd\n",
    "import numpy as np\n",
    "import networkx as nx\n",
    "import matplotlib.pyplot as plt\n",
    "import tensorflow as tf\n",
    "from tensorflow import keras\n",
    "from tensorflow.keras import layers"
   ]
  },
  {
   "cell_type": "code",
   "execution_count": null,
   "id": "f4c36b83-c147-49b4-add1-9fd939831c0a",
   "metadata": {},
   "outputs": [],
   "source": []
  }
 ],
 "metadata": {
  "kernelspec": {
   "display_name": "gnn38",
   "language": "python",
   "name": "gnn38"
  },
  "language_info": {
   "codemirror_mode": {
    "name": "ipython",
    "version": 3
   },
   "file_extension": ".py",
   "mimetype": "text/x-python",
   "name": "python",
   "nbconvert_exporter": "python",
   "pygments_lexer": "ipython3",
   "version": "3.8.10"
  }
 },
 "nbformat": 4,
 "nbformat_minor": 5
}
