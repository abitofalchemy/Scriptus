{
 "cells": [
  {
   "cell_type": "markdown",
   "metadata": {},
   "source": [
    "# Document Summarization"
   ]
  },
  {
   "cell_type": "code",
   "execution_count": 7,
   "metadata": {},
   "outputs": [],
   "source": [
    "# Getting the data\n",
    "import json \n",
    "import pandas as pd\n",
    "\n",
    "json_data_file = \"/Users/sal.aguinaga/Dropbox_Kyndi/dataSets/Shell/fulltext/get_indexed_fulltext.json\"\n",
    "raw_text = list(filter(lambda l: len(l)>0, \n",
    "                             open(json_data_file).read().split(\"\\n\")))\n",
    "docId_json = [json.loads(l) for l in raw_text]\n",
    "# docId_json[0]"
   ]
  },
  {
   "cell_type": "code",
   "execution_count": 15,
   "metadata": {},
   "outputs": [
    {
     "name": "stdout",
     "output_type": "stream",
     "text": [
      "2\n",
      " \n",
      " \n",
      "Source vessel\n",
      "Node vessel\n",
      "ROV\n",
      " \n",
      " \n",
      " Figure 1 – OBN Operations Description \n",
      " \n",
      "UPD-AW-2018-02 Upstream DeepWater Brazil April 2018 \n",
      " \n",
      " \n",
      "  \n",
      " \n",
      " \n",
      " \n",
      "Poor Management of Change led to poor \n",
      "Operational and HSSE performance \n",
      "(injuries, impact on cost and on timeline) \n",
      " \n",
      "Target audience for this alert \n",
      "  Geophysical/Geomatics Organizations \n",
      "  Offshore Operations & Logistics Organizations \n",
      "  Project Managers \n",
      "  Asset Managers \n",
      "  Venture Managers \n",
      " \n",
      "What happened \n",
      "Seisimc operations executed by a 3rd party under the \n",
      "management of the Operator, at a Shell Non-\n",
      "Operated  Venture (NOV). During an Ocean-Bottom \n",
      "Node (OBN) Seismic acquisition campaign (Figure 1) there were a series of operational/equipment (11) and HSSE \n",
      "incidents (3 FACs, 1 LWC, 1 Environment) on both the Source and on the Node Vessels (from Oct/2017 to \n",
      "Dec/2017). Vessels were brought to harbor and operations was suspended as a result of these incidents, while an \n",
      "investigation was conducted for the entire campaign. The LWC occurred on the source vessel, during the recovery of \n",
      "the gun arrays for maintenance, on Nov 24th 2017. When the gun mechanic stepped back so that Array 5 could be \n",
      "winched in, the winch operator pressed the winch heave position to raise Array 5. The gun mechanic called an all \n",
      "stop and the winch operator saw that the gun mechanic had been lifted and was now trapped between rails 4 and \n",
      "5 (Figures 2 & 3). The gun mechanic was lowered, first aid administered and he was then taken to hospital to \n",
      "receive treatment for 6 fractured ribs.  \n",
      " \n",
      "Why it happened \n",
      " LWC on Nov 24th 2017 \n",
      "o Procedure and Risk Assessment do not go into enough details for this activity \n",
      "o No procedure/ means of proper storage or securing the hook \n",
      "o Winch movement not clearly visible for the winch operator and no procedure for verification of correct winch selection \n",
      "o Hook from auxiliary winch 2 was not properly secured \n",
      "o Incorrect winch selection \n",
      "  \n",
      " Overall poor Operational and HSSE performance \n",
      "o Late change in vessel being contracted, Equipment used and Scope executed (Vessel with 2 non-AHC ROVs) not in \n",
      "accordance with Equipment / Scope tendered (Vessel with 2 AHC ROVs) \n",
      "• MOC not performed for the above  \n",
      "• Non-AHC (Active heave compensation) cranes added an extra complexity to operations \n",
      "o Node Vessel had a Helideck installed for this campaign, to allow faster crew changes and MEDIVACs (Figures 4 & 5) \n",
      "• MOC not performed for the above  \n",
      "• Helideck acted as a sail, increasing vessel movement and the difficulty in positioning vessel to lay nodes \n",
      "o Sea conditions much worse than normally expected for the location at this time of the year (Spring/Summer).  \n",
      "Contractor not used to MetOcean Brasilian conditions. \n",
      "o Personnel competency - locally sourced ROV pilots were unfamiliar with node handling operations, resulting in low \n",
      "productivity and technical failures (made worst with bad weather) \n",
      " \n",
      "                                   \n",
      "                        Figure 2 - T2 Winch with hook dangling down       Figure 3 - Simulation - winch hook entangled on life vest \n",
      " \n",
      "                                  \n",
      "             Figure 4 - Node Vessel with Helideck installed           Figure 5 - Node Vessel after Helideck removal \n",
      " \n",
      "Lessons learned \n",
      " In current “lower-for-longer” scenario, Seismic Vendor Operating Model changed from a “asset-owning” to “asset-light” \n",
      "(local sourcing) mode; this results in crews being predominantly made of sub-contractors, hired “on the spot” on local \n",
      "market, with limited skills and experience.  \n",
      " First time Seismic Vendor operating in Brazil brought additional challenges, especially with a below-spec node handling \n",
      "vessel, under powered and with no heave compensation on winches. \n",
      " \n",
      "Recommendations \n",
      " Ensure right equipment and scope is procurrred, aligned with the tender \n",
      " Changes to equipment or design must be managed by the Management of Change process \n",
      " Ensure right level of contract oversight, especially when vendor is new in conducting operations in the country \n",
      " In case of “green” crew of contractor, ensure enough time for proper training before operations start-up \n",
      " Ensure competencies are properly assessed especially for critical positions \n",
      " Regularly assess changes to the project, ensure a proper risk assessment has been completed and that ALARP criteria has \n",
      "been maintained. \n",
      " \n",
      "Further information \n",
      "For further information please contact Andre Augusto Almeida (andreaugusto.almeida@shell.com) \n",
      "\n"
     ]
    }
   ],
   "source": [
    "doc_pages_str = []\n",
    "for k,v in docId_json[4].items():\n",
    "    if k == 'content':\n",
    "        cntnt = json.loads(v)\n",
    "        for p in cntnt['pages']:\n",
    "            doc_pages_str.append(p['content'])\n",
    "        \n",
    "print(len(doc_pages_str))\n",
    "doc_pages_str[0]\n",
    "doc_pages_str = \"\".join(doc_pages_str)\n",
    "print(doc_pages_str)"
   ]
  },
  {
   "cell_type": "code",
   "execution_count": 3,
   "metadata": {},
   "outputs": [
    {
     "name": "stdout",
     "output_type": "stream",
     "text": [
      "[nltk_data] Downloading package stopwords to\n",
      "[nltk_data]     /Users/sal.aguinaga/nltk_data...\n",
      "[nltk_data]   Package stopwords is already up-to-date!\n"
     ]
    },
    {
     "data": {
      "text/plain": [
       "True"
      ]
     },
     "execution_count": 3,
     "metadata": {},
     "output_type": "execute_result"
    }
   ],
   "source": [
    "# Stop words\n",
    "import nltk; nltk.download('stopwords')"
   ]
  },
  {
   "cell_type": "code",
   "execution_count": 4,
   "metadata": {},
   "outputs": [
    {
     "ename": "ModuleNotFoundError",
     "evalue": "No module named 'pyLDAvis'",
     "output_type": "error",
     "traceback": [
      "\u001b[0;31m---------------------------------------------------------------------------\u001b[0m",
      "\u001b[0;31mModuleNotFoundError\u001b[0m                       Traceback (most recent call last)",
      "\u001b[0;32m<ipython-input-4-2f59d9f53a0d>\u001b[0m in \u001b[0;36m<module>\u001b[0;34m()\u001b[0m\n\u001b[1;32m     14\u001b[0m \u001b[0;34m\u001b[0m\u001b[0m\n\u001b[1;32m     15\u001b[0m \u001b[0;31m# Plotting\u001b[0m\u001b[0;34m\u001b[0m\u001b[0;34m\u001b[0m\u001b[0m\n\u001b[0;32m---> 16\u001b[0;31m \u001b[0;32mimport\u001b[0m \u001b[0mpyLDAvis\u001b[0m\u001b[0;34m\u001b[0m\u001b[0m\n\u001b[0m\u001b[1;32m     17\u001b[0m \u001b[0;32mimport\u001b[0m \u001b[0mpyLDAvis\u001b[0m\u001b[0;34m.\u001b[0m\u001b[0mgensim\u001b[0m\u001b[0;34m\u001b[0m\u001b[0m\n\u001b[1;32m     18\u001b[0m \u001b[0;32mimport\u001b[0m \u001b[0mmatplotlib\u001b[0m\u001b[0;34m.\u001b[0m\u001b[0mpyplot\u001b[0m \u001b[0;32mas\u001b[0m \u001b[0mplt\u001b[0m\u001b[0;34m\u001b[0m\u001b[0m\n",
      "\u001b[0;31mModuleNotFoundError\u001b[0m: No module named 'pyLDAvis'"
     ]
    }
   ],
   "source": [
    "# import packages\n",
    "import re\n",
    "import pandas as pd\n",
    "from pprint import pprint\n",
    "\n",
    "# Gensim for topic modeling\n",
    "import gensim\n",
    "import gensim.corpora as corpora \n",
    "from gensim.utils import simple_preprocess\n",
    "from gensim.models import CoherenceModel\n",
    "\n",
    "# spacy for lematization\n",
    "import spacy\n",
    "\n",
    "# Plotting\n",
    "import pyLDAvis\n",
    "import pyLDAvis.gensim\n",
    "import matplotlib.pyplot as plt\n",
    "%matplotlib inline\n",
    "\n",
    "# Enable logging for gensim - optional \n",
    "import logging\n",
    "logging.basicConfig(format='%(asctime)s : %(levelname)s : %(message)s',\n",
    "                   level=logging.ERROR)\n",
    "import warnings\n"
   ]
  },
  {
   "cell_type": "code",
   "execution_count": null,
   "metadata": {},
   "outputs": [],
   "source": []
  }
 ],
 "metadata": {
  "kernelspec": {
   "display_name": "Python 3",
   "language": "python",
   "name": "python3"
  },
  "language_info": {
   "codemirror_mode": {
    "name": "ipython",
    "version": 3
   },
   "file_extension": ".py",
   "mimetype": "text/x-python",
   "name": "python",
   "nbconvert_exporter": "python",
   "pygments_lexer": "ipython3",
   "version": "3.6.0"
  }
 },
 "nbformat": 4,
 "nbformat_minor": 2
}
